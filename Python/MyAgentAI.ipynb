{
 "cells": [
  {
   "cell_type": "code",
   "execution_count": 42,
   "metadata": {},
   "outputs": [],
   "source": [
    "import os\n",
    "from crewai import Agent, Crew, Task, Process"
   ]
  },
  {
   "cell_type": "code",
   "execution_count": 43,
   "metadata": {},
   "outputs": [],
   "source": [
    "from crewai_tools import SerperDevTool"
   ]
  },
  {
   "cell_type": "code",
   "execution_count": 44,
   "metadata": {},
   "outputs": [],
   "source": [
    "search_tool = SerperDevTool()"
   ]
  },
  {
   "cell_type": "code",
   "execution_count": 45,
   "metadata": {},
   "outputs": [
    {
     "name": "stdout",
     "output_type": "stream",
     "text": [
      "The dotenv extension is already loaded. To reload it, use:\n",
      "  %reload_ext dotenv\n"
     ]
    }
   ],
   "source": [
    "%load_ext dotenv\n",
    "%dotenv"
   ]
  },
  {
   "cell_type": "code",
   "execution_count": 46,
   "metadata": {},
   "outputs": [],
   "source": [
    "from langchain_openai import ChatOpenAI"
   ]
  },
  {
   "cell_type": "code",
   "execution_count": 47,
   "metadata": {},
   "outputs": [],
   "source": [
    "# Define agents with role and goals\n",
    "researcher = Agent(\n",
    "    role = \"Senior research assistant\",\n",
    "    goal = \"Look up the latest advancements in AI Agents\",\n",
    "    backstory = \"\"\"You work at a leading tech think tank.\n",
    "    Your expertise lies in searching Google for AI Agent framework.\n",
    "    You have a knack for dissecting complex data and presenting actionable insights.\"\"\",\n",
    "    verbose = False,\n",
    "    allow_delegation = False,\n",
    "    tools = [search_tool],\n",
    "    llm = ChatOpenAI(model_name=\"gpt-3.5-turbo-0125\", temperature=0.2)\n",
    ")"
   ]
  },
  {
   "cell_type": "code",
   "execution_count": 48,
   "metadata": {},
   "outputs": [],
   "source": [
    "\n",
    "writer = Agent(\n",
    "    role = \"Professional Short-Article Writer\",\n",
    "    goal = \"Summarize the lastest advancement in AI agents in a concise article\",\n",
    "    backstory = \"\"\"You are a renowned Content Strategist, known for your insightful and engaging articles.\n",
    "    You transform complex concepts into compelling narratives.\"\"\",\n",
    "    verbose = True,\n",
    "    allow_delegation = True,\n",
    "    llm = ChatOpenAI(model_name=\"gpt-3.5-turbo-0125\", temperature=0.7)\n",
    ")"
   ]
  },
  {
   "cell_type": "code",
   "execution_count": 49,
   "metadata": {},
   "outputs": [],
   "source": [
    "task1 = Task(\n",
    "    description = \"\"\"Conduct a comprehensive analysis of the latest advancements in AI Agent in March 2024.\n",
    "    Indentify key trends, breakthrough, and potential industry impacts\"\"\",\n",
    "    expected_output = \"Full analysis report in bullet points\",\n",
    "    agent = researcher\n",
    ")"
   ]
  },
  {
   "cell_type": "code",
   "execution_count": 50,
   "metadata": {},
   "outputs": [],
   "source": [
    "task2 = Task(\n",
    "    description = \"\"\"Using the insights provided, write a short article\n",
    "    post that highlights the most significent AI Agent advancements.\n",
    "    Your post should be informative yet accessible, catering to a tech-savvy audience.\n",
    "    Make is sound cool, avoid complex words so it doesn't sound like AI.\"\"\",\n",
    "    expected_output = \"Full blog post of at least 3 paragrphs\",\n",
    "    agent = writer\n",
    ")"
   ]
  },
  {
   "cell_type": "code",
   "execution_count": 51,
   "metadata": {},
   "outputs": [
    {
     "name": "stderr",
     "output_type": "stream",
     "text": [
      "2024-04-21 00:38:00,133 - 13272 - __init__.py-__init__:518 - WARNING: Overriding of current TracerProvider is not allowed\n"
     ]
    }
   ],
   "source": [
    "# Instantiate your crew with a sequential process\n",
    "crew = Crew(\n",
    "    agents = [researcher, writer],\n",
    "    tasks = [task1,task2],\n",
    "    verbose = 1 #1 or 2 different logging levels\n",
    ")"
   ]
  },
  {
   "cell_type": "code",
   "execution_count": 53,
   "metadata": {},
   "outputs": [
    {
     "name": "stdout",
     "output_type": "stream",
     "text": [
      "\u001b[1m\u001b[95m [DEBUG]: == Working Agent: Senior research assistant\u001b[00m\n",
      "\u001b[95m \n",
      "\n",
      "\n",
      "Search results: Title: Trends in AI — March 2024 - Zeta Alpha\n",
      "Link: https://www.zeta-alpha.com/post/trends-in-ai-march-2024\n",
      "Snippet: In this brief blog post, we'll cover some of the latest notable developments from the industry, along with the most trending research papers of ...\n",
      "---\n",
      "Title: The power of AI agents in 2024: Transforming our world\n",
      "Link: https://digileaders.com/the-power-of-ai-agents-in-2024-transforming-our-world/\n",
      "Snippet: Summary. In 2024, AI Agents are proving to be more than just digital assistants; they are catalysts for transformative change across industries ...\n",
      "---\n",
      "Title: AI and the Future of HE - 15th April 2024 - LinkedIn\n",
      "Link: https://www.linkedin.com/pulse/ai-future-he-15th-april-2024-nick-mcintosh-0icxc?trk=articles_directory\n",
      "Snippet: Google's Google Cloud Next '24 event unveiled groundbreaking generative AI advancements, including Vertex AI Agent Builder, which allows ...\n",
      "---\n",
      "Title: Latest AI Innovations For March 2024 - Cubed\n",
      "Link: https://blog.cubed.run/latest-ai-innovations-for-march-2024-e79c6b8333c0\n",
      "Snippet: The article explores all the new inventions and discoveries related to AI, LLMs, and peripheral technologies for March.\n",
      "---\n",
      "Title: Key AI developments in March 2024 - LinkedIn\n",
      "Link: https://www.linkedin.com/pulse/key-ai-developments-march-2024-holisticai-f8buf\n",
      "Snippet: 1. EU AI Act Passed by the European Parliament · The European Parliament approved the landmark EU AI Act on 13 March. · The Council of Europe will ...\n",
      "---\n",
      "Title: Top 5 AI Trends to Watch in 2024 - TechRepublic\n",
      "Link: https://www.techrepublic.com/article/top-ai-trends/\n",
      "Snippet: Generative AI is finding its niches within business in 2024, with multimodal models providing new capabilities. At the same time, ...\n",
      "---\n",
      "Title: AI Advancements - Visualwebz - Medium\n",
      "Link: https://seattlewebsitedesign.medium.com/ai-advancements-282fb523f496\n",
      "Snippet: Some of the most recent advancements in AI include the following: ... A Seattle web design and online marketing agency ... On March 29, 2024, ...\n",
      "---\n",
      "Title: AI Agents: Predictions for 2024 - E2E Networks\n",
      "Link: https://www.e2enetworks.com/blog/ai-agents-predictions-for-2024\n",
      "Snippet: The year 2024 holds significant promise for AI agents. With advancements in LLMs, specialized tools, and datasets, AI agents will prove their ...\n",
      "---\n",
      "Title: The most important AI trends in 2024 - IBM Blog\n",
      "Link: https://www.ibm.com/blog/artificial-intelligence-trends/\n",
      "Snippet: Reality check: more realistic expectations · Multimodal AI · Small(er) language models and open source advancements · GPU shortages and cloud costs ...\n",
      "---\n",
      "\n",
      "\u001b[00m\n",
      "\u001b[1m\u001b[92m [DEBUG]: == [Senior research assistant] Task output: - The European Parliament approved the landmark EU AI Act on 13th March 2024.\n",
      "- Google Cloud Next '24 event unveiled groundbreaking generative AI advancements, including Vertex AI Agent Builder.\n",
      "- Multimodal AI models are providing new capabilities in business applications.\n",
      "- GPU shortages and cloud costs are impacting the AI industry.\n",
      "- AI Agents in 2024 are catalysts for transformative change across industries.\n",
      "- Advancements in Large Language Models (LLMs) are driving progress in AI agents.\n",
      "- Specialized tools and datasets are enhancing the capabilities of AI agents.\n",
      "- Realistic expectations are being set for AI advancements in 2024.\n",
      "- Top 5 AI trends to watch in 2024 include generative AI and multimodal models.\n",
      "- The year 2024 holds significant promise for AI agents with advancements in LLMs and specialized tools.\n",
      "\n",
      "\u001b[00m\n",
      "\u001b[1m\u001b[95m [DEBUG]: == Working Agent: Professional Short-Article Writer\u001b[00m\n",
      "\n",
      "\n",
      "\u001b[1m> Entering new CrewAgentExecutor chain...\u001b[0m\n",
      "\u001b[32;1m\u001b[1;3mI need to craft a compelling article on the latest advancements in AI agents based on the provided context. I must ensure the content is informative yet accessible to a tech-savvy audience.\n",
      "\n",
      "Action: Delegate work to co-worker\n",
      "Action Input: {\"coworker\": \"Senior research assistant\", \"task\": \"Research the latest advancements in AI agents based on the provided context\", \"context\": \"The European Parliament approved the landmark EU AI Act on 13th March 2024. Google Cloud Next '24 event unveiled groundbreaking generative AI advancements, including Vertex AI Agent Builder. Multimodal AI models are providing new capabilities in business applications. GPU shortages and cloud costs are impacting the AI industry. AI Agents in 2024 are catalysts for transformative change across industries. Advancements in Large Language Models (LLMs) are driving progress in AI agents. Specialized tools and datasets are enhancing the capabilities of AI agents. Realistic expectations are being set for AI advancements in 2024. Top 5 AI trends to watch in 2024 include generative AI and multimodal models. The year 2024 holds significant promise for AI agents with advancements in LLMs and specialized tools.\"}\u001b[0m\u001b[95m \n",
      "\n",
      "\n",
      "Search results: Title: Initiating the Future: 2024 Marks the Beginning of AI Agents' Evolution\n",
      "Link: https://medium.com/@lawrenceteixeira/initiating-the-future-2024-marks-the-beginning-of-ai-agents-evolution-4339bc4ae54b\n",
      "Snippet: At the recent Google Next 2024 event, held ... AI agents named Google Gemini, marking a significant advancement in artificial intelligence ...\n",
      "---\n",
      "Title: The most important AI trends in 2024 - YouTube\n",
      "Link: https://www.youtube.com/watch?v=sGZ6AlAnULc\n",
      "Snippet: So, what AI developments should we expect in 2024 ... The most important AI trends in 2024 ...\n",
      "---\n",
      "Title: The explosion of AI Agents in 2024-2026 - LinkedIn\n",
      "Link: https://www.linkedin.com/pulse/explosion-ai-agents-2024-2026-frank-frisby-mfgle\n",
      "Snippet: Phase 7 - Emergence of Primitive AGI Systems: Here, agents evolve into fully autonomous, primitive Artificial General Intelligence (AGI) ...\n",
      "---\n",
      "Title: Top 5 AI Trends to Watch in 2024 - TechRepublic\n",
      "Link: https://www.techrepublic.com/article/top-ai-trends/\n",
      "Snippet: Generative AI is finding its niches within business in 2024, with multimodal models providing new capabilities. At the same time, ...\n",
      "---\n",
      "Title: 5 Top artificial intelligence trends for 2024 - Interplay\n",
      "Link: https://www.interplayit.com/blog/5-top-artificial-intelligence-trends-for-2024/\n",
      "Snippet: Read the latest post 5 Top artificial intelligence trends for 2024 from the IT experts at Interplay ... The emergence of AI agents in customer ...\n",
      "---\n",
      "Title: What Will 2024 Hold In AI Advancements? - Forbes\n",
      "Link: https://www.forbes.com/sites/cindygordon/2023/12/26/what-will-2023-hold-in-ai-advancements/\n",
      "Snippet: AI ethical draft laws will finally start to be legalized in the EU by Q4 2024. · Generative AI will continue to go mainstream, and share prices ...\n",
      "---\n",
      "Title: The Complete Guide to AI Agents for 2024 - Add Value Machine\n",
      "Link: https://www.addvaluemachine.com/blog-post/the-complete-guide-to-ai-agents-for-2024\n",
      "Snippet: AI agents have already become a transformative technology, but they are still early in their development. Here are some exciting areas of innovation to watch:.\n",
      "---\n",
      "Title: How 2024 Will Be A.I.'s 'Leap Forward' - The New York Times\n",
      "Link: https://www.nytimes.com/2024/01/08/technology/ai-robots-chatbots-2024.html\n",
      "Snippet: A.I. is set to advance at a rapid rate, becoming more powerful and spreading into the physical world.\n",
      "---\n",
      "Title: Top Ai Breakthroughs Coming in 2024 We're NOT Ready For!\n",
      "Link: https://www.youtube.com/watch?v=lRsg4MqGZuA\n",
      "Snippet: to dive into the cutting-edge world of Artificial Intelligence with our latest video! In 2024 ... New ...\n",
      "---\n",
      "Title: AI Sales Agents in 2024: Trends & Insights - LinkedIn\n",
      "Link: https://www.linkedin.com/pulse/ai-sales-agents-2024-trends-insights-stewart-townsend-9mrwc\n",
      "Snippet: In 2024, AI sales agents are poised to revolutionize the sales industry, offering invaluable insights, personalized experiences, and streamlined ...\n",
      "---\n",
      "\n",
      "\u001b[00m\n",
      "\u001b[95m \n",
      "\n",
      "Based on the information gathered from the search results, the latest advancements in AI agents in 2024 include the unveiling of Google Gemini at the Google Cloud Next '24 event, which marks a significant advancement in artificial intelligence. Additionally, generative AI and multimodal models are key trends to watch in 2024, providing new capabilities in business applications. The year 2024 holds promise for AI agents with advancements in Large Language Models (LLMs) and specialized tools, driving transformative change across industries. The emergence of AI agents in customer service and sales industries is also highlighted as a significant trend to watch. Overall, 2024 is expected to be a year of rapid advancement and innovation in the field of AI agents.\n",
      "\u001b[00m\n",
      "\u001b[32;1m\u001b[1;3m\u001b[0m\u001b[32;1m\u001b[1;3mThought: Now I can give a great answer.\n",
      "\n",
      "Final Answer:\n",
      "In 2024, the field of AI agents is experiencing groundbreaking advancements that are reshaping industries worldwide. The European Parliament's approval of the EU AI Act on 13th March 2024 signifies a significant step towards regulating AI technologies. The unveiling of Google Gemini at the Google Cloud Next '24 event introduces a new era of generative AI, while multimodal models are enhancing business applications with their diverse capabilities.\n",
      "\n",
      "Despite challenges such as GPU shortages and cloud costs impacting the industry, AI agents are proving to be catalysts for transformative change. Advancements in Large Language Models (LLMs) are driving progress in AI agents, enabling them to understand and process complex information more effectively. Specialized tools and datasets are further enhancing the capabilities of AI agents, making them more adaptable and efficient in various tasks.\n",
      "\n",
      "As we look ahead to 2024, realistic expectations are being set for AI advancements, with generative AI and multimodal models emerging as top trends to watch. The year holds significant promise for AI agents, with advancements in LLMs and specialized tools paving the way for innovation and growth in the AI industry. With AI agents increasingly being integrated into customer service and sales industries, the future looks bright for the evolution of artificial intelligence.\u001b[0m\n",
      "\n",
      "\u001b[1m> Finished chain.\u001b[0m\n",
      "\u001b[1m\u001b[92m [DEBUG]: == [Professional Short-Article Writer] Task output: In 2024, the field of AI agents is experiencing groundbreaking advancements that are reshaping industries worldwide. The European Parliament's approval of the EU AI Act on 13th March 2024 signifies a significant step towards regulating AI technologies. The unveiling of Google Gemini at the Google Cloud Next '24 event introduces a new era of generative AI, while multimodal models are enhancing business applications with their diverse capabilities.\n",
      "\n",
      "Despite challenges such as GPU shortages and cloud costs impacting the industry, AI agents are proving to be catalysts for transformative change. Advancements in Large Language Models (LLMs) are driving progress in AI agents, enabling them to understand and process complex information more effectively. Specialized tools and datasets are further enhancing the capabilities of AI agents, making them more adaptable and efficient in various tasks.\n",
      "\n",
      "As we look ahead to 2024, realistic expectations are being set for AI advancements, with generative AI and multimodal models emerging as top trends to watch. The year holds significant promise for AI agents, with advancements in LLMs and specialized tools paving the way for innovation and growth in the AI industry. With AI agents increasingly being integrated into customer service and sales industries, the future looks bright for the evolution of artificial intelligence.\n",
      "\n",
      "\u001b[00m\n",
      "########################\n",
      "In 2024, the field of AI agents is experiencing groundbreaking advancements that are reshaping industries worldwide. The European Parliament's approval of the EU AI Act on 13th March 2024 signifies a significant step towards regulating AI technologies. The unveiling of Google Gemini at the Google Cloud Next '24 event introduces a new era of generative AI, while multimodal models are enhancing business applications with their diverse capabilities.\n",
      "\n",
      "Despite challenges such as GPU shortages and cloud costs impacting the industry, AI agents are proving to be catalysts for transformative change. Advancements in Large Language Models (LLMs) are driving progress in AI agents, enabling them to understand and process complex information more effectively. Specialized tools and datasets are further enhancing the capabilities of AI agents, making them more adaptable and efficient in various tasks.\n",
      "\n",
      "As we look ahead to 2024, realistic expectations are being set for AI advancements, with generative AI and multimodal models emerging as top trends to watch. The year holds significant promise for AI agents, with advancements in LLMs and specialized tools paving the way for innovation and growth in the AI industry. With AI agents increasingly being integrated into customer service and sales industries, the future looks bright for the evolution of artificial intelligence.\n"
     ]
    }
   ],
   "source": [
    "result = crew.kickoff()\n",
    "print(\"########################\")\n",
    "print(result)"
   ]
  }
 ],
 "metadata": {
  "kernelspec": {
   "display_name": "Python 3",
   "language": "python",
   "name": "python3"
  },
  "language_info": {
   "codemirror_mode": {
    "name": "ipython",
    "version": 3
   },
   "file_extension": ".py",
   "mimetype": "text/x-python",
   "name": "python",
   "nbconvert_exporter": "python",
   "pygments_lexer": "ipython3",
   "version": "3.10.1"
  }
 },
 "nbformat": 4,
 "nbformat_minor": 2
}
